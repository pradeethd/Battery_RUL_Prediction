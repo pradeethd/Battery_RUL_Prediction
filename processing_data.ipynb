{
 "cells": [
  {
   "cell_type": "code",
   "execution_count": null,
   "id": "bdaf3769",
   "metadata": {},
   "outputs": [],
   "source": [
    "import pandas as pd\n",
    "import os"
   ]
  },
  {
   "cell_type": "code",
   "execution_count": null,
   "id": "957ae31f",
   "metadata": {},
   "outputs": [],
   "source": [
    "def closest_values(data, target_value: float, cycle: int, phase: bool):\n",
    "    \"\"\"\n",
    "    Approximating the value of ´x´ for a given value of ´y´\n",
    "    of a function f(x)=y, and get the time of 'x'\n",
    "\n",
    "    Parameters\n",
    "    ----------\n",
    "    data : dataframe.\n",
    "    target_value : the value of y (desired voltage value).\n",
    "    cycle : cycle of the battery.\n",
    "    phase : bool\n",
    "        1 for discharging phase, 0 for charging phase.\n",
    "\n",
    "    Returns\n",
    "    -------\n",
    "    feature : the time (s) of x in the given cycle\n",
    "\n",
    "    \"\"\"\n",
    "    \n",
    "    if phase == 0:\n",
    "        df_filt = data[data['Current (A)'] > 0]  # Selecting charging phase\n",
    "    \n",
    "    elif phase == 1:\n",
    "        df_filt = data[data['Current (A)'] < 0]  # Selecting discharging phase\n",
    "\n",
    "    df_filt = df_filt[df_filt['Cycle_Index'] == cycle]  # Selects battery cycle\n",
    "    \n",
    "    # Look for the closest value to target_value\n",
    "    a_list = list(df_filt['Voltage (V)'])\n",
    "    absolute_difference_function = lambda list_value: abs(list_value - target_value)\n",
    "    \n",
    "    closest_value = min(a_list, key=absolute_difference_function)   # Closest value to target_value\n",
    "    ind_1 = a_list.index(closest_value)  # Get index of the value\n",
    "    time_closest_value = df_filt.reset_index()['Test_Time (s)'][ind_1]  # Time (s) for target_value\n",
    "    \n",
    "    cycle_start = df_filt['Test_Time (s)'].min()  # Time when the charging cycle starts.\n",
    "    \n",
    "    if closest_value == target_value:\n",
    "        feature = time_closest_value - cycle_start\n",
    "        \n",
    "    else:   # Finding the value between two points\n",
    "        b_list = a_list.copy()\n",
    "        b_list.remove(closest_value)\n",
    "        second_closest_value = min(b_list, key=absolute_difference_function)  # Second closest value to target value\n",
    "        ind_2 = a_list.index(second_closest_value)  # Get index of the value\n",
    "        time_second_closest_value = df_filt.reset_index()['Test_Time (s)'][ind_2]  # Time (s) for that value\n",
    "        \n",
    "        y1 = time_closest_value\n",
    "        y2 = time_second_closest_value\n",
    "        x1 = closest_value\n",
    "        x2 = second_closest_value\n",
    "        x = target_value\n",
    "  \n",
    "        if closest_value < second_closest_value:\n",
    "            y = y1 + ((x - x1) / (x2 - x1)) * (y2 - y1)  # Linear approximation\n",
    "            \n",
    "        else:\n",
    "            y = y2 + ((x - x2) / (x1 - x2)) * (y1 - y2)  # Linear approximation\n",
    "                  \n",
    "        feature = y - cycle_start\n",
    "                \n",
    "    return feature"
   ]
  },
  {
   "cell_type": "markdown",
   "id": "5d25e435",
   "metadata": {},
   "source": [
    "====================================================================================\n",
    "IMPORT THE DATASET:"
   ]
  },
  {
   "cell_type": "code",
   "execution_count": null,
   "id": "5cd4bb17",
   "metadata": {},
   "outputs": [],
   "source": [
    "# Name of the file we want to import (add .csv at the end)\n",
    "name_file = 'HNEI_18650_NMC_LCO_25C_0-100_0.5-1.5C_a_timeseries.csv'\n",
    "raw_df = pd.read_csv(os.getcwd() + '/Datasets/Raw Datasets/' + name_file)\n",
    "df = raw_df.copy(deep=True)"
   ]
  },
  {
   "cell_type": "code",
   "execution_count": null,
   "id": "65c9fc29",
   "metadata": {},
   "outputs": [],
   "source": [
    "# FINDING OUT HOW MANY CYCLES STARTS WITH charging OR DISCHARGING PHASE\n",
    "list_discharging = []\n",
    "first_charging = 0\n",
    "first_discharging = 0\n",
    "last_cycle = int(df['Cycle_Index'].max())\n",
    "for cycle in range(1, last_cycle):\n",
    "    try:\n",
    "        df_test = df[df['Cycle_Index'] == cycle]  # Selecting the cycle\n",
    "        df_test = df_test[df_test['Current (A)'] != 0]  # Selecting current (A) values not equal to zero\n",
    "        df_test = df_test['Current (A)']\n",
    "        first_value = df_test.reset_index()['Current (A)'][0]\n",
    "\n",
    "        # If the first non-zero current (A) value of a new cycle is positive, then charging takes place first\n",
    "        if first_value > 0:\n",
    "            first_charging += 1\n",
    "\n",
    "        # If the first non-zero current (A) value of a new cycle is negative, then discharging takes place first\n",
    "        else:\n",
    "            first_discharging += 1\n",
    "            list_discharging.append(cycle)\n",
    "    except:\n",
    "        pass"
   ]
  },
  {
   "cell_type": "code",
   "execution_count": null,
   "id": "600a56f9",
   "metadata": {},
   "outputs": [],
   "source": [
    "print(f'{first_discharging} starts with discharging')\n",
    "print(f'{first_charging} starts with charging')\n",
    "print(f'The following list contains the cycles which start with discharge phase: {list_discharging}')"
   ]
  },
  {
   "cell_type": "markdown",
   "id": "fae4da99",
   "metadata": {},
   "source": [
    "====================================================================================\n",
    "FEATURE 1: 'Discharge Time (s)' is the time that takes the voltage to reach its\n",
    "minimun value in one discharge cycle."
   ]
  },
  {
   "cell_type": "code",
   "execution_count": null,
   "id": "aaa5595a",
   "metadata": {},
   "outputs": [],
   "source": [
    "# Creating new dataset 'df_features'  which will contain new designed features.\n",
    "df_features = pd.DataFrame(columns=['Cycle_Index','Discharge Time (s)'])\n",
    "df_features = df_features.append({'Cycle_Index': '', 'Discharge Time (s)': ''},\n",
    "                                 ignore_index=True)"
   ]
  },
  {
   "cell_type": "code",
   "execution_count": null,
   "id": "aef12e56",
   "metadata": {},
   "outputs": [],
   "source": [
    "last_cycle = int(df['Cycle_Index'].max())  # Max number of cycles in the original dataframe 'df'"
   ]
  },
  {
   "cell_type": "code",
   "execution_count": null,
   "id": "c4474ab2",
   "metadata": {},
   "outputs": [],
   "source": [
    "# Get the discharge time for every cycle in 'df'\n",
    "for cycle in range(1, last_cycle + 1):\n",
    "    filt = (df['Current (A)'] < 0) & (df['Cycle_Index'] == cycle)  # Filtering only for discharge phase and cycle\n",
    "\n",
    "    # Discharge time is the difference between max and min time within the cycle as the time is cumulative in 'df'\n",
    "    disch_time = round(df[filt]['Test_Time (s)'].max() - df[filt]\\\n",
    "                       ['Test_Time (s)'].min(), 2)\n",
    "\n",
    "    # Append result to df_features\n",
    "    df_features = df_features.append({'Cycle_Index': cycle,\n",
    "                                      'Discharge Time (s)': disch_time}, ignore_index=True)"
   ]
  },
  {
   "cell_type": "markdown",
   "id": "afba782b",
   "metadata": {},
   "source": [
    "====================================================================================\n",
    "FEATURE 2: 'Decrement 3.6-3.4V (s)'\n",
    "It represents the time which the voltage takes to drop from 3.6V to 3.4V\n",
    "during a discharge cycle."
   ]
  },
  {
   "cell_type": "code",
   "execution_count": null,
   "id": "f11bad9b",
   "metadata": {},
   "outputs": [],
   "source": [
    "last_cycle = int(df['Cycle_Index'].max())  # Max number of cycles in the original dataframe 'df'"
   ]
  },
  {
   "cell_type": "code",
   "execution_count": null,
   "id": "b5210a16",
   "metadata": {},
   "outputs": [],
   "source": [
    "for cycle in range(1, last_cycle + 1):\n",
    "\n",
    "    try:\n",
    "        time_1 = closest_values(df, 3.6, cycle, 1)  # Calling function to approximate the time at 3.6V\n",
    "        time_2 = closest_values(df, 3.4, cycle, 1)  # Calling function to approximate the time at 3.4V\n",
    "\n",
    "        feature_2 = time_2 - time_1\n",
    "\n",
    "        df_features.loc[cycle, 'Decrement 3.6-3.4V (s)'] = feature_2\n",
    "\n",
    "    except:\n",
    "        pass"
   ]
  },
  {
   "cell_type": "markdown",
   "id": "6d23ac14",
   "metadata": {},
   "source": [
    "====================================================================================\n",
    "FEATURE 3: 'Max. Voltage Dischar. (V)'\n",
    "It's the initial and maximum voltage in the discharging phase."
   ]
  },
  {
   "cell_type": "code",
   "execution_count": null,
   "id": "fab59368",
   "metadata": {},
   "outputs": [],
   "source": [
    "last_cycle = int(df_features.shape[0])"
   ]
  },
  {
   "cell_type": "code",
   "execution_count": null,
   "id": "459afc43",
   "metadata": {},
   "outputs": [],
   "source": [
    "for cycle in range(1, last_cycle):\n",
    "    try:\n",
    "        df_filt = df[df['Cycle_Index'] == cycle]  # Select cycle\n",
    "        df_filt = df_filt[df_filt['Current (A)'] < 0]  # Discharge phase\n",
    "        \n",
    "        # Calculate feature 3:\n",
    "        max_voltage = df_filt['Voltage (V)'].max() \n",
    "        \n",
    "        # Append to df_features:\n",
    "        df_features.loc[cycle, 'Max. Voltage Dischar. (V)'] = round(max_voltage,  6)\n",
    "        \n",
    "    except:\n",
    "        pass"
   ]
  },
  {
   "cell_type": "markdown",
   "id": "0c38fa1f",
   "metadata": {},
   "source": [
    "====================================================================================\n",
    "FEATURE 4: Min. Voltage Charg. (V)\n",
    "It's the initial value of Voltage when charging."
   ]
  },
  {
   "cell_type": "code",
   "execution_count": null,
   "id": "dbbd31d2",
   "metadata": {},
   "outputs": [],
   "source": [
    "last_cycle = int(df_features['Cycle_Index'].shape[0])"
   ]
  },
  {
   "cell_type": "code",
   "execution_count": null,
   "id": "c0220a70",
   "metadata": {},
   "outputs": [],
   "source": [
    "for cycle in range(1, last_cycle):\n",
    "    try:\n",
    "        df_filt = df[df['Cycle_Index'] == cycle]  # Select cycle\n",
    "        df_filt = df_filt[df_filt['Current (A)'] > 0]  # Charging phase\n",
    "        \n",
    "        # Calculate feature 4:\n",
    "        min_voltage = df_filt['Voltage (V)'].min() \n",
    "        \n",
    "        # Append in df_features:\n",
    "        df_features.loc[cycle, 'Min. Voltage Charg. (V)'] = round(min_voltage, 6)\n",
    "        \n",
    "    except:\n",
    "        pass"
   ]
  },
  {
   "cell_type": "markdown",
   "id": "add3d6c3",
   "metadata": {},
   "source": [
    "====================================================================================\n",
    "FEATURE 5: 'Time at 4.15V (s)'\n",
    "It's the time to reach 4.15V in charging phase"
   ]
  },
  {
   "cell_type": "code",
   "execution_count": null,
   "id": "8c1d7b63",
   "metadata": {},
   "outputs": [],
   "source": [
    "last_cycle = int(df['Cycle_Index'].max())\n",
    "for cycle in range(1, last_cycle + 1):\n",
    "    \n",
    "    try:\n",
    "        feature_5 = closest_values(df, 4.15, cycle, 0)  # Calling function to approx. the time at 4.15V when charging\n",
    "        df_features.loc[cycle, 'Time at 4.15V (s)'] = feature_5  # Insert feature in the features dataframe\n",
    "            \n",
    "    except:\n",
    "        pass"
   ]
  },
  {
   "cell_type": "markdown",
   "id": "f46f1cb8",
   "metadata": {},
   "source": [
    "====================================================================================\n",
    "FEATURE 6: 'Time constant current (s)'\n",
    "It's the time in which the current stays constant at its max. value"
   ]
  },
  {
   "cell_type": "code",
   "execution_count": null,
   "id": "9bb56972",
   "metadata": {},
   "outputs": [],
   "source": [
    "last_cycle = int(df_features.shape[0])\n",
    "for cycle in range(1, last_cycle + 1):\n",
    "    try:\n",
    "        df_filt = df[df['Cycle_Index'] == cycle]  # Select cycle\n",
    "        df_filt = df_filt[df_filt['Current (A)'] > 0] # Select charging phase\n",
    "        \n",
    "        max_current = df_filt['Current (A)'].mode()\n",
    "        max_current -= 0.05\n",
    "        df_current = df_filt[df_filt['Current (A)'] > max_current[0]]\n",
    "        \n",
    "        #Calculate Feature 6:\n",
    "        feature_6 = df_current['Test_Time (s)'].max() - \\\n",
    "            df_current['Test_Time (s)'].min()\n",
    "        \n",
    "        # Append the feature to df_features\n",
    "        df_features.loc[cycle, 'Time constant current (s)'] = round(feature_6, 2)\n",
    "                \n",
    "    except:\n",
    "        pass"
   ]
  },
  {
   "cell_type": "markdown",
   "id": "44544034",
   "metadata": {},
   "source": [
    "====================================================================================\n",
    "FEATURE 7: ('Charging time (s)')\n",
    "It's the total time for charging"
   ]
  },
  {
   "cell_type": "code",
   "execution_count": null,
   "id": "04280857",
   "metadata": {},
   "outputs": [],
   "source": [
    "last_cycle = int(df['Cycle_Index'].max())\n",
    "for cycle in range(1, last_cycle + 1):\n",
    "    try:\n",
    "        # Total time accumulated (charging + discharging)\n",
    "        df_filt = df[df['Cycle_Index'] == cycle]\n",
    "        total_time = float(df_filt['Test_Time (s)'].max())\n",
    "        \n",
    "        # Total time of each charging phase\n",
    "        df_filt = df_filt[df_filt['Current (A)'] > 0]\n",
    "        charging_time = float(df_filt['Test_Time (s)'].max() \\\n",
    "                              - df_filt['Test_Time (s)'].min())\n",
    "        \n",
    "        # Adding values to df_features\n",
    "        df_features.loc[cycle, 'Total time (s)'] = round(total_time, 2)  # Charging + Discharging\n",
    "        df_features.loc[cycle, 'Charging time (s)'] = round(charging_time, 2)  # Charging time\n",
    "        \n",
    "    except:\n",
    "        pass"
   ]
  },
  {
   "cell_type": "code",
   "execution_count": null,
   "id": "c6a81117",
   "metadata": {},
   "outputs": [],
   "source": [
    "# Difference of times between cycles. Now we also have the total of EACH cycle\n",
    "df_total_time = df_features['Total time (s)'].diff()\n",
    "df_features.drop('Total time (s)', axis=1, inplace=True)  # Drop the accumulated times\n",
    "df_features = df_features.join(df_total_time)  # Append the total time of each cycle"
   ]
  },
  {
   "cell_type": "code",
   "execution_count": null,
   "id": "07f45639",
   "metadata": {},
   "outputs": [],
   "source": [
    "# The total time for the first cycle is missing. We'll add it: \n",
    "total_time_cycle_1 = df[df['Cycle_Index'] == 1]['Test_Time (s)'].max()\n",
    "df_features.loc[1, 'Total time (s)'] = round(total_time_cycle_1, 2)"
   ]
  },
  {
   "cell_type": "markdown",
   "id": "b555064f",
   "metadata": {},
   "source": [
    "====================================================================================\n",
    "DATA CLEANING:"
   ]
  },
  {
   "cell_type": "code",
   "execution_count": null,
   "id": "58f866d3",
   "metadata": {},
   "outputs": [],
   "source": [
    "# Dropping first row since it has no values:\n",
    "df_features.drop(0, axis=0, inplace=True)"
   ]
  },
  {
   "cell_type": "code",
   "execution_count": null,
   "id": "445f2bc6",
   "metadata": {},
   "outputs": [],
   "source": [
    "# ADDING THE RUL (REMAINING USEFUL LIFETIME) FOR EVERY CYCLE\n",
    "# RUL = Last cycle - current cycle\n",
    "df_features['RUL'] = ''\n",
    "last_cycle = int(df_features.shape[0] + 1)\n",
    "for cycle in range(1, last_cycle):\n",
    "    max_cycle = df_features.shape[0]  # Maximum battery cycle\n",
    "    RUL = int(max_cycle - cycle)  # Calculating RUL\n",
    "    df_features.loc[cycle, 'RUL'] = RUL  # Adding the value to the dataframe"
   ]
  },
  {
   "cell_type": "code",
   "execution_count": null,
   "id": "3fa2be3b",
   "metadata": {},
   "outputs": [],
   "source": [
    "# Checking empty cycles and dropping them from df_features:\n",
    "empty_cycles = df_features[\"Discharge Time (s)\"].isna().sum()\n",
    "print(f'There are {empty_cycles} empty cycles without any value at all.')\n",
    "df_features.dropna(inplace=True)"
   ]
  },
  {
   "cell_type": "markdown",
   "id": "217b71ec",
   "metadata": {},
   "source": [
    "====================================================================================\n",
    "Save df_features as a .csv file:"
   ]
  },
  {
   "cell_type": "code",
   "execution_count": null,
   "id": "5cbaa226",
   "metadata": {},
   "outputs": [],
   "source": [
    "name_database = 'HNEI_a'\n",
    "df_features.to_csv(os.getcwd() + '/Datasets/HNEI_Processed/' + name_database +\n",
    "                   '_features.csv')"
   ]
  }
 ],
 "metadata": {
  "jupytext": {
   "cell_metadata_filter": "-all",
   "main_language": "python",
   "notebook_metadata_filter": "-all"
  }
 },
 "nbformat": 4,
 "nbformat_minor": 5
}
