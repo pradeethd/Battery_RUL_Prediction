{
 "cells": [
  {
   "cell_type": "code",
   "execution_count": null,
   "id": "e97a8993",
   "metadata": {},
   "outputs": [],
   "source": [
    "import pandas as pd\n",
    "import os"
   ]
  },
  {
   "cell_type": "markdown",
   "id": "4a3831d5",
   "metadata": {
    "lines_to_next_cell": 2
   },
   "source": [
    "JOINS THE 14 DATABASES INTO ONE:\n",
    "The source databases are named as 'HNEI_18650_NMC_LCO_25C_0-100_0.5-1.5C_a_timeseries.csv'.\n",
    "In all 14 databases the only change to the name is the letter before '_timeseries.csv'\n",
    "Ranging from 'a' to 't'"
   ]
  },
  {
   "cell_type": "code",
   "execution_count": null,
   "id": "d935e8a2",
   "metadata": {},
   "outputs": [],
   "source": [
    "def import_df(file: str):\n",
    "    \"\"\"\n",
    "    Get the dataframe by stating the letter ('a', 'b', 'c', etc.) from the name of the .csv file\n",
    "    Parameters\n",
    "    ----------\n",
    "    file: letters ('a', 'b', 'c', etc.)\n",
    "\n",
    "    Returns\n",
    "    -------\n",
    "    The dataframe df_features from the main.py\n",
    "    \"\"\"\n",
    "    name_file = 'HNEI_' + file + '_features.csv'\n",
    "    df_features = pd.read_csv(os.getcwd() + '/Datasets/HNEI_Processed/' + name_file)\n",
    "    \n",
    "    return df_features"
   ]
  },
  {
   "cell_type": "code",
   "execution_count": null,
   "id": "055ee616",
   "metadata": {},
   "outputs": [],
   "source": [
    "final_df = pd.DataFrame()  # Creating a new dataframe\n",
    "files = ['a', 'b', 'c', 'd', 'e', 'f', 'g', 'j', 'l', 'n', 'o', 'p', 's', 't']\n",
    "for i in files:\n",
    "    df_features = import_df(i)\n",
    "    final_df = final_df.append(df_features)  # Appending each dataframe to the final dataframe"
   ]
  },
  {
   "cell_type": "code",
   "execution_count": null,
   "id": "e7d0e40b",
   "metadata": {},
   "outputs": [],
   "source": [
    "final_df.drop('Unnamed: 0', axis=1, inplace=True)  # Dropping one unuseful column"
   ]
  },
  {
   "cell_type": "code",
   "execution_count": null,
   "id": "66050933",
   "metadata": {},
   "outputs": [],
   "source": [
    "# Saving the final dataframe\n",
    "name_database = 'Final Database.csv'\n",
    "final_df.to_csv(os.getcwd() + '/Datasets/HNEI_Processed/' + name_database)"
   ]
  }
 ],
 "metadata": {
  "jupytext": {
   "cell_metadata_filter": "-all",
   "main_language": "python",
   "notebook_metadata_filter": "-all"
  }
 },
 "nbformat": 4,
 "nbformat_minor": 5
}
